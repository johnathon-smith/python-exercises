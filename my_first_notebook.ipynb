{
 "cells": [
  {
   "cell_type": "code",
   "execution_count": 1,
   "id": "4841444c",
   "metadata": {},
   "outputs": [
    {
     "data": {
      "text/plain": [
       "2"
      ]
     },
     "execution_count": 1,
     "metadata": {},
     "output_type": "execute_result"
    }
   ],
   "source": [
    "1 + 1 "
   ]
  },
  {
   "cell_type": "code",
   "execution_count": 2,
   "id": "291d4ee0",
   "metadata": {},
   "outputs": [
    {
     "name": "stdout",
     "output_type": "stream",
     "text": [
      "Hello World\n"
     ]
    }
   ],
   "source": [
    "print('Hello World')"
   ]
  },
  {
   "cell_type": "code",
   "execution_count": 3,
   "id": "6f9c1785",
   "metadata": {},
   "outputs": [
    {
     "name": "stdout",
     "output_type": "stream",
     "text": [
      "This is my first notebook\n"
     ]
    }
   ],
   "source": [
    "print('This is my first notebook')"
   ]
  },
  {
   "cell_type": "markdown",
   "id": "f58a6918",
   "metadata": {},
   "source": [
    "#This is my first note"
   ]
  },
  {
   "cell_type": "markdown",
   "id": "211ba7e4",
   "metadata": {},
   "source": [
    "## A few shortcuts:\n",
    "   - shift + enter: run the cell\n",
    "   - esc: enter command mode\n",
    "   - y(while in command mode): change to code\n",
    "   - m(while in command mode): change to markdown"
   ]
  },
  {
   "cell_type": "code",
   "execution_count": null,
   "id": "c1baff05",
   "metadata": {},
   "outputs": [],
   "source": []
  }
 ],
 "metadata": {
  "kernelspec": {
   "display_name": "Python 3",
   "language": "python",
   "name": "python3"
  },
  "language_info": {
   "codemirror_mode": {
    "name": "ipython",
    "version": 3
   },
   "file_extension": ".py",
   "mimetype": "text/x-python",
   "name": "python",
   "nbconvert_exporter": "python",
   "pygments_lexer": "ipython3",
   "version": "3.9.1"
  }
 },
 "nbformat": 4,
 "nbformat_minor": 5
}
